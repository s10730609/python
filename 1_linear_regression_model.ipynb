{
  "nbformat": 4,
  "nbformat_minor": 0,
  "metadata": {
    "colab": {
      "name": "1_linear_regression_model.ipynb",
      "version": "0.3.2",
      "provenance": []
    },
    "kernelspec": {
      "display_name": "Python 2",
      "language": "python",
      "name": "python2"
    }
  },
  "cells": [
    {
      "metadata": {
        "id": "ez0fTZcoy-Jd",
        "colab_type": "text"
      },
      "cell_type": "markdown",
      "source": [
        "Use shift-enter to execute a code block and move to the next one."
      ]
    },
    {
      "metadata": {
        "id": "rFj66weLy-Jf",
        "colab_type": "code",
        "colab": {}
      },
      "cell_type": "code",
      "source": [
        "# 1.1 Import tensorflow and other libraries.\n",
        "import tensorflow as tf\n",
        "import numpy as np\n",
        "\n",
        "%matplotlib inline\n",
        "import pylab"
      ],
      "execution_count": 0,
      "outputs": []
    },
    {
      "metadata": {
        "id": "JeetJ3hhy-Jm",
        "colab_type": "code",
        "colab": {
          "base_uri": "https://localhost:8080/",
          "height": 282
        },
        "outputId": "ec95900b-3595-428d-e2c6-558a500ca227"
      },
      "cell_type": "code",
      "source": [
        "# 1.2 Create input data using NumPy. y = x * 0.1 + 0.3 + noise\n",
        "#x_data = np.random.rand(100).astype(np.float32)\n",
        "#noise = np.random.normal(scale=0.01, size=len(x_data))\n",
        "#y_data = x_data * 2 + -5 + noise\n",
        "\n",
        "\n",
        "x_data = np.linspace(0, -10, 100)\n",
        "y_data = (x_data+5)**2\n",
        "\n",
        "\n",
        "# Uncomment the following line to plot our input data.\n",
        "pylab.plot(x_data, y_data,)\n"
      ],
      "execution_count": 220,
      "outputs": [
        {
          "output_type": "execute_result",
          "data": {
            "text/plain": [
              "[<matplotlib.lines.Line2D at 0x7f2b37ac4090>]"
            ]
          },
          "metadata": {
            "tags": []
          },
          "execution_count": 220
        },
        {
          "output_type": "display_data",
          "data": {
            "image/png": "[encoded data removed]",
            "text/plain": [
              "<matplotlib.figure.Figure at 0x7f2b37d2b410>"
            ]
          },
          "metadata": {
            "tags": []
          }
        }
      ]
    },
    {
      "metadata": {
        "id": "bb6cs7fdy-Jq",
        "colab_type": "code",
        "colab": {
          "base_uri": "https://localhost:8080/",
          "height": 34
        },
        "outputId": "15845176-459f-4f86-f577-8314f2beb3b9"
      },
      "cell_type": "code",
      "source": [
        "# 1.3 Buld inference graph.\n",
        "# Create Variables W and b that compute y_data = W * x_data + b\n",
        "a = 8\n",
        "x = tf.Variable(tf.random_uniform([1], -10, 0))\n",
        "#b = tf.Variable(tf.zeros([1]))\n",
        "y =   (x+a)**2\n",
        "\n",
        "# Uncomment the following lines to see W and b are.\n",
        "print(x)\n",
        "#print(b)"
      ],
      "execution_count": 221,
      "outputs": [
        {
          "output_type": "stream",
          "text": [
            "<tf.Variable 'Variable_36:0' shape=(1,) dtype=float32_ref>\n"
          ],
          "name": "stdout"
        }
      ]
    },
    {
      "metadata": {
        "scrolled": true,
        "id": "ZMg5NPX-y-Ju",
        "colab_type": "code",
        "colab": {}
      },
      "cell_type": "code",
      "source": [
        "# 1.4 Build training graph.\n",
        "loss = tf.reduce_mean(tf.square(a + x))  # Create an operation that calculates loss.\n",
        "optimizer = tf.train.GradientDescentOptimizer(0.5)  # Create an optimizer.\n",
        "train = optimizer.minimize(loss)  # Create an operation that minimizes loss.\n",
        "init = tf.initialize_all_variables()  # Create an operation initializes all the variables.\n",
        "\n",
        "# Uncomment the following 3 lines to see what 'loss', 'optimizer' and 'train' are.\n",
        "#print(\"loss:\", loss)\n",
        "#print(\"optimizer:\", optimizer)\n",
        "#print(\"train:\", train)\n",
        "#print(init)"
      ],
      "execution_count": 0,
      "outputs": []
    },
    {
      "metadata": {
        "id": "WXFC1v7qy-J0",
        "colab_type": "code",
        "colab": {}
      },
      "cell_type": "code",
      "source": [
        "# 1.5 Uncomment the following line to see what we have built.\n",
        "#print(tf.get_default_graph().as_graph_def())"
      ],
      "execution_count": 0,
      "outputs": []
    },
    {
      "metadata": {
        "id": "oVY6K0DEy-J3",
        "colab_type": "code",
        "colab": {
          "base_uri": "https://localhost:8080/",
          "height": 34
        },
        "outputId": "f4cd6d15-e55c-4e51-ff06-749da2d68334"
      },
      "cell_type": "code",
      "source": [
        "# 1.6 Create a session and launch the graph.\n",
        "sess = tf.Session()\n",
        "sess.run(init)\n",
        "#y_initial_values = sess.run(y)  # Save initial values for plotting later.\n",
        "\n",
        "# Uncomment the following line to see the initial W and b values.\n",
        "print(sess.run([x]))"
      ],
      "execution_count": 216,
      "outputs": [
        {
          "output_type": "stream",
          "text": [
            "[array([-6.536627], dtype=float32)]\n"
          ],
          "name": "stdout"
        }
      ]
    },
    {
      "metadata": {
        "id": "p3b5a6bKy-J6",
        "colab_type": "code",
        "colab": {
          "base_uri": "https://localhost:8080/",
          "height": 34
        },
        "outputId": "70e4ff2d-4819-498d-8b0b-ce9062db3699"
      },
      "cell_type": "code",
      "source": [
        "# 1.7 Perform training.\n",
        "for step in range(201):\n",
        "    sess.run(train)\n",
        "    # Uncomment the following two lines to watch training happen real time.\n",
        "    #if step % 20 == 0:\n",
        "        #print(step, sess.run([W, b]))\n",
        "\n",
        "print(sess.run([x]))"
      ],
      "execution_count": 217,
      "outputs": [
        {
          "output_type": "stream",
          "text": [
            "[array([-8.], dtype=float32)]\n"
          ],
          "name": "stdout"
        }
      ]
    },
    {
      "metadata": {
        "id": "tMkZsifGy-J8",
        "colab_type": "code",
        "colab": {}
      },
      "cell_type": "code",
      "source": [
        "# 1.8 Uncomment the following lines to compare.\n",
        "#ylab.plot(x_data, y_data, '.', label=\"target_values\")\n",
        "#ylab.plot(x_data, y_initial_values, \".\", label=\"initial_values\")\n",
        "#ylab.plot(x_data, sess.run(y), \".\", label=\"trained_values\")\n",
        "#ylab.legend()\n",
        "#ylab.ylim(-5,2.0)"
      ],
      "execution_count": 0,
      "outputs": []
    },
    {
      "metadata": {
        "id": "KAPegr4ky-J-",
        "colab_type": "text"
      },
      "cell_type": "markdown",
      "source": [
        "<p>Back to [0_tf_hello_world.ipynb](0_tf_hello_world.ipynb).</p>\n",
        "<p>Next to [2_mnist.ipynb](2_mnist.ipynb).</p>"
      ]
    }
  ]
}