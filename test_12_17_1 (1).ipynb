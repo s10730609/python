{
  "nbformat": 4,
  "nbformat_minor": 0,
  "metadata": {
    "colab": {
      "name": "test_12_17_1.ipynb",
      "version": "0.3.2",
      "provenance": [],
      "collapsed_sections": []
    },
    "kernelspec": {
      "name": "python3",
      "display_name": "Python 3"
    },
    "accelerator": "GPU"
  },
  "cells": [
    {
      "metadata": {
        "id": "1dcehuFX1vtY",
        "colab_type": "code",
        "colab": {}
      },
      "cell_type": "code",
      "source": [
        "# 1.1 Import tensorflow and other libraries.\n",
        "import tensorflow as tf\n",
        "import numpy as np\n",
        "\n",
        "%matplotlib inline\n",
        "import pylab"
      ],
      "execution_count": 0,
      "outputs": []
    },
    {
      "metadata": {
        "id": "6cq7GJMM17CP",
        "colab_type": "code",
        "outputId": "0936df17-f15d-4ef0-9277-093e1c42e8cf",
        "colab": {
          "base_uri": "https://localhost:8080/",
          "height": 282
        }
      },
      "cell_type": "code",
      "source": [
        "# 1.2 Create input data using NumPy. y = x * 0.1 + 0.3 + noise\n",
        "#x_data = np.random.rand(100).astype(np.float32)\n",
        "#noise = np.random.normal(scale=0.01, size=len(x_data))\n",
        "#y_data = x_data * 2 + -5 + noise\n",
        "\n",
        "\n",
        "z_data=np.linspace(0, 250, 1000)\n",
        "y_data =(500*z_data-2*z_data**2)\n",
        "x_data = (500-2*z_data)\n",
        "\n",
        "\n",
        "# Uncomment the following line to plot our input data.\n",
        "pylab.plot(x_data, y_data,)"
      ],
      "execution_count": 209,
      "outputs": [
        {
          "output_type": "execute_result",
          "data": {
            "text/plain": [
              "[<matplotlib.lines.Line2D at 0x7f1664257f28>]"
            ]
          },
          "metadata": {
            "tags": []
          },
          "execution_count": 209
        },
        {
          "output_type": "display_data",
          "data": {
            "image/png": "[encoded data removed]",
            "text/plain": [
              "<matplotlib.figure.Figure at 0x7f1664349550>"
            ]
          },
          "metadata": {
            "tags": []
          }
        }
      ]
    },
    {
      "metadata": {
        "id": "cyvwnmJM2btd",
        "colab_type": "code",
        "colab": {}
      },
      "cell_type": "code",
      "source": [
        "# 1.3 Buld inference graph.\n",
        "# Create Variables W and b that compute y_data = W * x_data + b\n",
        "y = tf.Variable(tf.random_uniform([1], 0, 250))\n",
        "\n",
        "#b = tf.Variable(tf.zeros([1]))\n",
        "\n",
        "# Uncomment the following lines to see W and b are.\n",
        "\n",
        "#print(b)\n"
      ],
      "execution_count": 0,
      "outputs": []
    },
    {
      "metadata": {
        "id": "uFUEmNCs2gwd",
        "colab_type": "code",
        "colab": {}
      },
      "cell_type": "code",
      "source": [
        "# 1.5 Uncomment the following line to see what we have built.\n",
        "#print(tf.get_default_graph().as_graph_def())"
      ],
      "execution_count": 0,
      "outputs": []
    },
    {
      "metadata": {
        "id": "hsY3URgn2dwQ",
        "colab_type": "code",
        "colab": {}
      },
      "cell_type": "code",
      "source": [
        "# 1.4 Build training graph.\n",
        "loss = 100000-(500*y-2*y**2)  # Create an operation that calculates loss.\n",
        "optimizer = tf.train.GradientDescentOptimizer(0.5)  # Create an optimizer.\n",
        "train = optimizer.minimize(loss)  # Create an operation that minimizes loss.\n",
        "init = tf.initialize_all_variables()  # Create an operation initializes all the variables.\n",
        "\n",
        "# Uncomment the following 3 lines to see what 'loss', 'optimizer' and 'train' are.\n",
        "#print(\"loss:\", loss)\n",
        "#print(\"optimizer:\", optimizer)\n",
        "#print(\"train:\", train)\n",
        "#print(init)"
      ],
      "execution_count": 0,
      "outputs": []
    },
    {
      "metadata": {
        "id": "xOkQYHLQ2jUe",
        "colab_type": "code",
        "outputId": "dfd09c6f-f2cf-476e-8e93-0de659c59c11",
        "colab": {
          "base_uri": "https://localhost:8080/",
          "height": 34
        }
      },
      "cell_type": "code",
      "source": [
        "# 1.6 Create a session and launch the graph.\n",
        "sess = tf.Session()\n",
        "sess.run(init)\n",
        "#y_initial_values = sess.run(y)  # Save initial values for plotting later.\n",
        "\n",
        "# Uncomment the following line to see the initial W and b values.\n",
        "print(sess.run([y]))"
      ],
      "execution_count": 213,
      "outputs": [
        {
          "output_type": "stream",
          "text": [
            "[array([122.3627], dtype=float32)]\n"
          ],
          "name": "stdout"
        }
      ]
    },
    {
      "metadata": {
        "id": "-ywAKV_62lGt",
        "colab_type": "code",
        "outputId": "f904cc44-09a9-4b4d-bb3b-dbad386f4635",
        "colab": {
          "base_uri": "https://localhost:8080/",
          "height": 34
        }
      },
      "cell_type": "code",
      "source": [
        "# 1.7 Perform training.\n",
        "for step in range(201):\n",
        "    sess.run(train)\n",
        "    # Uncomment the following two lines to watch training happen real time.\n",
        "    #if step % 20 == 0:\n",
        "      #print(step, sess.run([y]))\n",
        "\n",
        "print(sess.run([y]))"
      ],
      "execution_count": 214,
      "outputs": [
        {
          "output_type": "stream",
          "text": [
            "[array([127.6373], dtype=float32)]\n"
          ],
          "name": "stdout"
        }
      ]
    },
    {
      "metadata": {
        "id": "lpiWKI_GEZVS",
        "colab_type": "code",
        "colab": {}
      },
      "cell_type": "code",
      "source": [
        "\n",
        " \n",
        "\n",
        "\n",
        "\n",
        "\n",
        "    "
      ],
      "execution_count": 0,
      "outputs": []
    },
    {
      "metadata": {
        "id": "-1LrT_AzFvG6",
        "colab_type": "code",
        "colab": {}
      },
      "cell_type": "code",
      "source": [
        ""
      ],
      "execution_count": 0,
      "outputs": []
    }
  ]
}