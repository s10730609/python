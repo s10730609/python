{
  "nbformat": 4,
  "nbformat_minor": 0,
  "metadata": {
    "colab": {
      "name": "inverse matrix.ipynb",
      "version": "0.3.2",
      "provenance": [],
      "collapsed_sections": []
    },
    "kernelspec": {
      "name": "python3",
      "display_name": "Python 3"
    },
    "accelerator": "TPU"
  },
  "cells": [
    {
      "metadata": {
        "id": "QZGfa3HkJZoC",
        "colab_type": "code",
        "colab": {
          "base_uri": "https://localhost:8080/",
          "height": 68
        },
        "outputId": "d6971884-f176-4b3a-94bc-541acfb1541a"
      },
      "cell_type": "code",
      "source": [
        "import numpy as np\n",
        "a =np.array([[3,2,-1],[2,-2,4],[-1,1/2,-1]])\n",
        "print(a)"
      ],
      "execution_count": 38,
      "outputs": [
        {
          "output_type": "stream",
          "text": [
            "[[ 3.   2.  -1. ]\n",
            " [ 2.  -2.   4. ]\n",
            " [-1.   0.5 -1. ]]\n"
          ],
          "name": "stdout"
        }
      ]
    },
    {
      "metadata": {
        "id": "g5mYJ_7HKTG5",
        "colab_type": "code",
        "colab": {
          "base_uri": "https://localhost:8080/",
          "height": 34
        },
        "outputId": "435508d2-3bd0-421f-db33-f429c877aa17"
      },
      "cell_type": "code",
      "source": [
        "b = np.array([1,-2,0])\n",
        "z = np.linalg.solve(a,b)\n",
        "print(z)"
      ],
      "execution_count": 39,
      "outputs": [
        {
          "output_type": "stream",
          "text": [
            "[ 1. -2. -2.]\n"
          ],
          "name": "stdout"
        }
      ]
    },
    {
      "metadata": {
        "id": "Iun01VwUXRRF",
        "colab_type": "code",
        "colab": {
          "base_uri": "https://localhost:8080/",
          "height": 119
        },
        "outputId": "d7983597-1e19-4c5a-cf00-e7b5e481e973"
      },
      "cell_type": "code",
      "source": [
        "import numpy as np\n",
        "from numpy.linalg import inv\n",
        "a =np.array([[3,2,-1],[2,-2,4],[-1,1/2,-1]])\n",
        "ainv = np.linalg.inv(a)\n",
        "np.allclose(np.dot(a, ainv), np.eye(3))\n",
        "b = np.array([[1],[-2],[0]])\n",
        "print(a)\n",
        "print(b)"
      ],
      "execution_count": 40,
      "outputs": [
        {
          "output_type": "stream",
          "text": [
            "[[ 3.   2.  -1. ]\n",
            " [ 2.  -2.   4. ]\n",
            " [-1.   0.5 -1. ]]\n",
            "[[ 1]\n",
            " [-2]\n",
            " [ 0]]\n"
          ],
          "name": "stdout"
        }
      ]
    },
    {
      "metadata": {
        "id": "bDbEkUmoZAQt",
        "colab_type": "code",
        "colab": {
          "base_uri": "https://localhost:8080/",
          "height": 68
        },
        "outputId": "e29c8fe1-4b8c-49f6-d9e3-134c2abfb1ed"
      },
      "cell_type": "code",
      "source": [
        "ainv = inv(np.matrix(a))\n",
        "ainv\n",
        "\n",
        "ans = np.dot(ainv,b)\n",
        "print(ans)"
      ],
      "execution_count": 41,
      "outputs": [
        {
          "output_type": "stream",
          "text": [
            "[[ 1.]\n",
            " [-2.]\n",
            " [-2.]]\n"
          ],
          "name": "stdout"
        }
      ]
    }
  ]
}