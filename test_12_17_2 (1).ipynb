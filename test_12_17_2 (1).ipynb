{
  "nbformat": 4,
  "nbformat_minor": 0,
  "metadata": {
    "colab": {
      "name": "test_12_17_2.ipynb",
      "version": "0.3.2",
      "provenance": [],
      "collapsed_sections": []
    },
    "kernelspec": {
      "name": "python3",
      "display_name": "Python 3"
    },
    "accelerator": "GPU"
  },
  "cells": [
    {
      "metadata": {
        "id": "xeZcUrjs-ceA",
        "colab_type": "code",
        "colab": {
          "base_uri": "https://localhost:8080/",
          "height": 34
        },
        "outputId": "d9174433-5224-42aa-9978-3a7dadad91b1"
      },
      "cell_type": "code",
      "source": [
        "!pip install gaft"
      ],
      "execution_count": 32,
      "outputs": [
        {
          "output_type": "stream",
          "text": [
            "Requirement already satisfied: gaft in /usr/local/lib/python3.6/dist-packages (0.5.7)\n"
          ],
          "name": "stdout"
        }
      ]
    },
    {
      "metadata": {
        "id": "26c680_2-d5h",
        "colab_type": "code",
        "colab": {
          "base_uri": "https://localhost:8080/",
          "height": 408
        },
        "outputId": "0ed3c797-6fbe-4d39-c4b1-09bfa88dc5bb"
      },
      "cell_type": "code",
      "source": [
        "from math import sin, cos, pi\n",
        "\n",
        "from gaft import GAEngine\n",
        "from gaft.components import BinaryIndividual\n",
        "from gaft.components import Population\n",
        "from gaft.operators import TournamentSelection\n",
        "from gaft.operators import UniformCrossover\n",
        "from gaft.operators import FlipBitBigMutation\n",
        "\n",
        "# Built-in best fitness analysis.\n",
        "from gaft.analysis.fitness_store import FitnessStore\n",
        "from gaft.analysis.console_output import ConsoleOutput\n",
        "\n",
        "# Define population.\n",
        "indv_template = BinaryIndividual(ranges=[(0,250)], eps=0.001)\n",
        "population = Population(indv_template=indv_template, size=50).init()\n",
        "\n",
        "# Create genetic operators.\n",
        "#selection = RouletteWheelSelection()\n",
        "selection = TournamentSelection()\n",
        "crossover = UniformCrossover(pc=0.8, pe=0.5)\n",
        "mutation = FlipBitBigMutation(pm=0.1, pbm=0.55, alpha=0.6)\n",
        "\n",
        "# Create genetic algorithm engine.\n",
        "# Here we pass all built-in analysis to engine constructor.\n",
        "engine = GAEngine(population=population, selection=selection,\n",
        "                  crossover=crossover, mutation=mutation,\n",
        "                  analysis=[ConsoleOutput, FitnessStore])\n",
        "\n",
        "# Define fitness function.\n",
        "@engine.fitness_register\n",
        "def fitness(indv):\n",
        "    y, = indv.solution\n",
        "   \n",
        "    return 500*y-2*y**2 \n",
        "\n",
        "if '__main__' == __name__:\n",
        "    engine.run(ng=20)\n",
        "\n"
      ],
      "execution_count": 33,
      "outputs": [
        {
          "output_type": "stream",
          "text": [
            "gaft.ConsoleOutput   INFO     Generation number: 20 Population number: 50\n",
            "gaft.ConsoleOutput   INFO     Generation: 1, best fitness: 31248.144, scaled fitness: 31248.144\n",
            "gaft.ConsoleOutput   INFO     Generation: 2, best fitness: 31248.144, scaled fitness: 31248.144\n",
            "gaft.ConsoleOutput   INFO     Generation: 3, best fitness: 31249.772, scaled fitness: 31249.772\n",
            "gaft.ConsoleOutput   INFO     Generation: 4, best fitness: 31249.772, scaled fitness: 31249.772\n",
            "gaft.ConsoleOutput   INFO     Generation: 5, best fitness: 31249.772, scaled fitness: 31249.772\n",
            "gaft.ConsoleOutput   INFO     Generation: 6, best fitness: 31249.981, scaled fitness: 31249.981\n",
            "gaft.ConsoleOutput   INFO     Generation: 7, best fitness: 31249.981, scaled fitness: 31249.981\n",
            "gaft.ConsoleOutput   INFO     Generation: 8, best fitness: 31249.981, scaled fitness: 31249.981\n",
            "gaft.ConsoleOutput   INFO     Generation: 9, best fitness: 31249.981, scaled fitness: 31249.981\n",
            "gaft.ConsoleOutput   INFO     Generation: 10, best fitness: 31249.981, scaled fitness: 31249.981\n",
            "gaft.ConsoleOutput   INFO     Generation: 11, best fitness: 31249.981, scaled fitness: 31249.981\n",
            "gaft.ConsoleOutput   INFO     Generation: 12, best fitness: 31249.981, scaled fitness: 31249.981\n",
            "gaft.ConsoleOutput   INFO     Generation: 13, best fitness: 31249.981, scaled fitness: 31249.981\n",
            "gaft.ConsoleOutput   INFO     Generation: 14, best fitness: 31249.981, scaled fitness: 31249.981\n",
            "gaft.ConsoleOutput   INFO     Generation: 15, best fitness: 31249.981, scaled fitness: 31249.981\n",
            "gaft.ConsoleOutput   INFO     Generation: 16, best fitness: 31249.981, scaled fitness: 31249.981\n",
            "gaft.ConsoleOutput   INFO     Generation: 17, best fitness: 31249.981, scaled fitness: 31249.981\n",
            "gaft.ConsoleOutput   INFO     Generation: 18, best fitness: 31249.981, scaled fitness: 31249.981\n",
            "gaft.ConsoleOutput   INFO     Generation: 19, best fitness: 31249.981, scaled fitness: 31249.981\n",
            "gaft.ConsoleOutput   INFO     Generation: 20, best fitness: 31249.981, scaled fitness: 31249.981\n",
            "gaft.ConsoleOutput   INFO     Optimal solution: ([124.90272521972656], 31249.981075234246)\n",
            "gaft.FitnessStore   INFO     Best fitness values are written to best_fit.py\n"
          ],
          "name": "stdout"
        }
      ]
    }
  ]
}