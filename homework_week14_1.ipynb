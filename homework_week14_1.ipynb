{
  "nbformat": 4,
  "nbformat_minor": 0,
  "metadata": {
    "colab": {
      "name": "homework_week14_1.ipynb",
      "version": "0.3.2",
      "provenance": [],
      "collapsed_sections": []
    },
    "kernelspec": {
      "name": "python3",
      "display_name": "Python 3"
    }
  },
  "cells": [
    {
      "metadata": {
        "id": "FX8KX0oA1Zi0",
        "colab_type": "text"
      },
      "cell_type": "markdown",
      "source": [
        "We have a piece of cardboard that is 14 inches by 10 inches and we’re going to cut out the corners as shown below and fold up the sides to form a box, also shown below. Determine the height of the box that will give a maximum volume.\n",
        "![替代文字](http://tutorial.math.lamar.edu/Classes/CalcI/Optimization_Files/image006.gif)\n",
        "\n",
        "$$\n",
        "V(h)=h(14−2h)(10−2h)=140h−48h^2+4h^3\n",
        "$$<br>      \n",
        "$$\n",
        "V′(h)=140−96*h+12*h^2\n",
        "$$<br>\n",
        "\n",
        "\n",
        "Finally, since the volume is defined and continuous on \n",
        "$\n",
        "0≤h≤5\n",
        "$\n",
        " all we need to do is plug in the critical points and endpoints into the volume to determine which gives the largest volume. Here are those function evaluations.\n",
        "\n",
        "$$V(0)=0 $$&nbsp; $$ V(1.9183)=120.1644$$ &nbsp;;$$V(5)=0$$\n",
        "\n",
        "So, if we take $h=1.9183$ we get a maximum volume."
      ]
    },
    {
      "metadata": {
        "id": "3bhYq-_yRkAK",
        "colab_type": "code",
        "colab": {}
      },
      "cell_type": "code",
      "source": [
        "# 1.1 Import tensorflow and other libraries.\n",
        "import tensorflow as tf\n",
        "import numpy as np\n",
        "\n",
        "%matplotlib inline\n",
        "import pylab"
      ],
      "execution_count": 0,
      "outputs": []
    },
    {
      "metadata": {
        "id": "U-BxvVIjRqhI",
        "colab_type": "code",
        "outputId": "8ea84964-c108-4fd1-cbc3-48a2095bd633",
        "colab": {
          "base_uri": "https://localhost:8080/",
          "height": 282
        }
      },
      "cell_type": "code",
      "source": [
        "# 1.2 Create input data using NumPy. y = x * 0.1 + 0.3 + noise\n",
        "#x_data = np.random.rand(100).astype(np.float32)\n",
        "#noise = np.random.normal(scale=0.01, size=len(x_data))\n",
        "#y_data = x_data * 2 + -5 + noise\n",
        "\n",
        "\n",
        "x_data = np.linspace(0, 50, 1000)\n",
        "y_data = (140-96*x_data+12*x_data**2)\n",
        "\n",
        "\n",
        "# Uncomment the following line to plot our input data.\n",
        "pylab.plot(x_data, y_data,)"
      ],
      "execution_count": 45,
      "outputs": [
        {
          "output_type": "execute_result",
          "data": {
            "text/plain": [
              "[<matplotlib.lines.Line2D at 0x7fe29981dbe0>]"
            ]
          },
          "metadata": {
            "tags": []
          },
          "execution_count": 45
        },
        {
          "output_type": "display_data",
          "data": {
            "image/png": "[encoded data removed]",
            "text/plain": [
              "<matplotlib.figure.Figure at 0x7fe299903e10>"
            ]
          },
          "metadata": {
            "tags": []
          }
        }
      ]
    },
    {
      "metadata": {
        "id": "sPcv_zl5Ru1t",
        "colab_type": "code",
        "outputId": "e94765b3-2e0c-4649-9782-506b73c5be3f",
        "colab": {
          "base_uri": "https://localhost:8080/",
          "height": 34
        }
      },
      "cell_type": "code",
      "source": [
        "# 1.3 Buld inference graph.\n",
        "# Create Variables W and b that compute y_data = W * x_data + b\n",
        "y = tf.Variable(tf.random_uniform([1], 0, 5))\n",
        "h = 210-(140-96*y+12*y**2)\n",
        "#b = tf.Variable(tf.zeros([1]))\n",
        "\n",
        "\n",
        "# Uncomment the following lines to see W and b are.\n",
        "print(h)\n",
        "#print(b)"
      ],
      "execution_count": 46,
      "outputs": [
        {
          "output_type": "stream",
          "text": [
            "Tensor(\"sub_13:0\", shape=(1,), dtype=float32)\n"
          ],
          "name": "stdout"
        }
      ]
    },
    {
      "metadata": {
        "id": "_ihBA8Z3Rwom",
        "colab_type": "code",
        "colab": {}
      },
      "cell_type": "code",
      "source": [
        "# 1.4 Build training graph.\n",
        "loss = tf.reduce_mean(h)  # Create an operation that calculates loss.\n",
        "optimizer = tf.train.GradientDescentOptimizer(0.00001)  # Create an optimizer.\n",
        "train = optimizer.minimize(loss)  # Create an operation that minimizes loss.\n",
        "init = tf.initialize_all_variables()  # Create an operation initializes all the variables.\n",
        "\n",
        "# Uncomment the following 3 lines to see what 'loss', 'optimizer' and 'train' are.\n",
        "#print(\"loss:\", loss)\n",
        "#print(\"optimizer:\", optimizer)\n",
        "#print(\"train:\", train)\n",
        "#print(init)"
      ],
      "execution_count": 0,
      "outputs": []
    },
    {
      "metadata": {
        "id": "Ksw3866xT5_7",
        "colab_type": "code",
        "colab": {}
      },
      "cell_type": "code",
      "source": [
        "# 1.5 Uncomment the following line to see what we have built.\n",
        "#print(tf.get_default_graph().as_graph_def())"
      ],
      "execution_count": 0,
      "outputs": []
    },
    {
      "metadata": {
        "id": "5XqkjiwORxOd",
        "colab_type": "code",
        "outputId": "05e80e1b-0c6c-49fe-b113-5fa8edde24ba",
        "colab": {
          "base_uri": "https://localhost:8080/",
          "height": 34
        }
      },
      "cell_type": "code",
      "source": [
        "# 1.6 Create a session and launch the graph.\n",
        "sess = tf.Session()\n",
        "sess.run(init)\n",
        "#y_initial_values = sess.run(y)  # Save initial values for plotting later.\n",
        "\n",
        "# Uncomment the following line to see the initial W and b values.\n",
        "print(sess.run([y]))"
      ],
      "execution_count": 49,
      "outputs": [
        {
          "output_type": "stream",
          "text": [
            "[array([1.6756558], dtype=float32)]\n"
          ],
          "name": "stdout"
        }
      ]
    },
    {
      "metadata": {
        "id": "AHQMzz_GRzyN",
        "colab_type": "code",
        "outputId": "9adb0ae8-ca8f-4d87-97b9-40f9e6a78b7d",
        "colab": {
          "base_uri": "https://localhost:8080/",
          "height": 221
        }
      },
      "cell_type": "code",
      "source": [
        "# 1.7 Perform training.\n",
        "for step in range(210):\n",
        "    sess.run(train)\n",
        "    # Uncomment the following two lines to watch training happen real time.\n",
        "    if step % 20 == 0:\n",
        "      print(step, sess.run([y]))\n",
        "\n",
        "print(sess.run([y]))"
      ],
      "execution_count": 50,
      "outputs": [
        {
          "output_type": "stream",
          "text": [
            "0 [array([1.675098], dtype=float32)]\n",
            "20 [array([1.6639128], dtype=float32)]\n",
            "40 [array([1.652674], dtype=float32)]\n",
            "60 [array([1.6413811], dtype=float32)]\n",
            "80 [array([1.6300337], dtype=float32)]\n",
            "100 [array([1.6186318], dtype=float32)]\n",
            "120 [array([1.6071752], dtype=float32)]\n",
            "140 [array([1.5956635], dtype=float32)]\n",
            "160 [array([1.5840962], dtype=float32)]\n",
            "180 [array([1.5724733], dtype=float32)]\n",
            "200 [array([1.5607946], dtype=float32)]\n",
            "[array([1.5555209], dtype=float32)]\n"
          ],
          "name": "stdout"
        }
      ]
    },
    {
      "metadata": {
        "id": "kb12CRwvR1ce",
        "colab_type": "code",
        "colab": {}
      },
      "cell_type": "code",
      "source": [
        ""
      ],
      "execution_count": 0,
      "outputs": []
    }
  ]
}