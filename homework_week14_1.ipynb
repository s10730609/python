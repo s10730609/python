{
  "nbformat": 4,
  "nbformat_minor": 0,
  "metadata": {
    "colab": {
      "name": "homework_week14_1.ipynb",
      "version": "0.3.2",
      "provenance": [],
      "collapsed_sections": []
    },
    "kernelspec": {
      "name": "python3",
      "display_name": "Python 3"
    }
  },
  "cells": [
    {
      "metadata": {
        "id": "3bhYq-_yRkAK",
        "colab_type": "code",
        "colab": {}
      },
      "cell_type": "code",
      "source": [
        "# 1.1 Import tensorflow and other libraries.\n",
        "import tensorflow as tf\n",
        "import numpy as np\n",
        "\n",
        "%matplotlib inline\n",
        "import pylab"
      ],
      "execution_count": 0,
      "outputs": []
    },
    {
      "metadata": {
        "id": "U-BxvVIjRqhI",
        "colab_type": "code",
        "colab": {
          "base_uri": "https://localhost:8080/",
          "height": 283
        },
        "outputId": "c51284fc-fc13-49f6-8f43-61f37edf0ddc"
      },
      "cell_type": "code",
      "source": [
        "# 1.2 Create input data using NumPy. y = x * 0.1 + 0.3 + noise\n",
        "#x_data = np.random.rand(100).astype(np.float32)\n",
        "#noise = np.random.normal(scale=0.01, size=len(x_data))\n",
        "#y_data = x_data * 2 + -5 + noise\n",
        "\n",
        "\n",
        "x_data = np.linspace(0, 50, 1000)\n",
        "y_data = (140*x_data-48*x_data**2+4*x_data**3)\n",
        "\n",
        "\n",
        "# Uncomment the following line to plot our input data.\n",
        "pylab.plot(x_data, y_data,)"
      ],
      "execution_count": 710,
      "outputs": [
        {
          "output_type": "execute_result",
          "data": {
            "text/plain": [
              "[<matplotlib.lines.Line2D at 0x7f5f37703ac8>]"
            ]
          },
          "metadata": {
            "tags": []
          },
          "execution_count": 710
        },
        {
          "output_type": "display_data",
          "data": {
            "image/png": "[encoded data removed]",
            "text/plain": [
              "<matplotlib.figure.Figure at 0x7f5f37823978>"
            ]
          },
          "metadata": {
            "tags": []
          }
        }
      ]
    },
    {
      "metadata": {
        "id": "sPcv_zl5Ru1t",
        "colab_type": "code",
        "colab": {
          "base_uri": "https://localhost:8080/",
          "height": 34
        },
        "outputId": "98585b29-8c34-4a53-e750-f849b47a0915"
      },
      "cell_type": "code",
      "source": [
        "# 1.3 Buld inference graph.\n",
        "# Create Variables W and b that compute y_data = W * x_data + b\n",
        "y = tf.Variable(tf.random_uniform([1], 0, 5))\n",
        "h = 210-(140-96*y+12*y**2)\n",
        "#b = tf.Variable(tf.zeros([1]))\n",
        "\n",
        "\n",
        "# Uncomment the following lines to see W and b are.\n",
        "print(h)\n",
        "#print(b)"
      ],
      "execution_count": 711,
      "outputs": [
        {
          "output_type": "stream",
          "text": [
            "Tensor(\"sub_180:0\", shape=(1,), dtype=float32)\n"
          ],
          "name": "stdout"
        }
      ]
    },
    {
      "metadata": {
        "id": "_ihBA8Z3Rwom",
        "colab_type": "code",
        "colab": {}
      },
      "cell_type": "code",
      "source": [
        "# 1.4 Build training graph.\n",
        "loss = tf.reduce_mean(h)  # Create an operation that calculates loss.\n",
        "optimizer = tf.train.GradientDescentOptimizer(0.00001)  # Create an optimizer.\n",
        "train = optimizer.minimize(loss)  # Create an operation that minimizes loss.\n",
        "init = tf.initialize_all_variables()  # Create an operation initializes all the variables.\n",
        "\n",
        "# Uncomment the following 3 lines to see what 'loss', 'optimizer' and 'train' are.\n",
        "#print(\"loss:\", loss)\n",
        "#print(\"optimizer:\", optimizer)\n",
        "#print(\"train:\", train)\n",
        "#print(init)"
      ],
      "execution_count": 0,
      "outputs": []
    },
    {
      "metadata": {
        "id": "Ksw3866xT5_7",
        "colab_type": "code",
        "colab": {}
      },
      "cell_type": "code",
      "source": [
        "# 1.5 Uncomment the following line to see what we have built.\n",
        "#print(tf.get_default_graph().as_graph_def())"
      ],
      "execution_count": 0,
      "outputs": []
    },
    {
      "metadata": {
        "id": "5XqkjiwORxOd",
        "colab_type": "code",
        "colab": {
          "base_uri": "https://localhost:8080/",
          "height": 34
        },
        "outputId": "6e26745f-5dd2-40d5-cb73-2cf36c7d5adf"
      },
      "cell_type": "code",
      "source": [
        "# 1.6 Create a session and launch the graph.\n",
        "sess = tf.Session()\n",
        "sess.run(init)\n",
        "#y_initial_values = sess.run(y)  # Save initial values for plotting later.\n",
        "\n",
        "# Uncomment the following line to see the initial W and b values.\n",
        "print(sess.run([y]))"
      ],
      "execution_count": 714,
      "outputs": [
        {
          "output_type": "stream",
          "text": [
            "[array([2.4411345], dtype=float32)]\n"
          ],
          "name": "stdout"
        }
      ]
    },
    {
      "metadata": {
        "id": "AHQMzz_GRzyN",
        "colab_type": "code",
        "colab": {
          "base_uri": "https://localhost:8080/",
          "height": 221
        },
        "outputId": "e7f5dd52-e785-4851-eade-fdb5f7583d87"
      },
      "cell_type": "code",
      "source": [
        "# 1.7 Perform training.\n",
        "for step in range(210):\n",
        "    sess.run(train)\n",
        "    # Uncomment the following two lines to watch training happen real time.\n",
        "    if step % 20 == 0:\n",
        "      print(step, sess.run([y]))\n",
        "\n",
        "print(sess.run([y]))"
      ],
      "execution_count": 715,
      "outputs": [
        {
          "output_type": "stream",
          "text": [
            "0 [array([2.4407604], dtype=float32)]\n",
            "20 [array([2.433259], dtype=float32)]\n",
            "40 [array([2.4257214], dtype=float32)]\n",
            "60 [array([2.4181476], dtype=float32)]\n",
            "80 [array([2.4105375], dtype=float32)]\n",
            "100 [array([2.4028907], dtype=float32)]\n",
            "120 [array([2.395207], dtype=float32)]\n",
            "140 [array([2.3874865], dtype=float32)]\n",
            "160 [array([2.3797288], dtype=float32)]\n",
            "180 [array([2.3719337], dtype=float32)]\n",
            "200 [array([2.3641012], dtype=float32)]\n",
            "[array([2.360564], dtype=float32)]\n"
          ],
          "name": "stdout"
        }
      ]
    },
    {
      "metadata": {
        "id": "kb12CRwvR1ce",
        "colab_type": "code",
        "colab": {}
      },
      "cell_type": "code",
      "source": [
        ""
      ],
      "execution_count": 0,
      "outputs": []
    }
  ]
}